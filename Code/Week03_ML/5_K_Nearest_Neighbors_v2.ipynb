{
  "cells": [
    {
      "cell_type": "markdown",
      "metadata": {
        "id": "61-PPUMgqqkh"
      },
      "source": [
        "# **1. Load Iris Plants Dataset**\n",
        "\n",
        "Reference: https://www.kaggle.com/code"
      ]
    },
    {
      "cell_type": "code",
      "execution_count": 2,
      "metadata": {
        "id": "ToqElyT3ghwT"
      },
      "outputs": [
        {
          "name": "stdout",
          "output_type": "stream",
          "text": [
            "Requirement already satisfied: scikit-learn==1.0.2 in /opt/homebrew/Caskroom/miniconda/base/lib/python3.9/site-packages (1.0.2)\n",
            "Requirement already satisfied: joblib>=0.11 in /opt/homebrew/Caskroom/miniconda/base/lib/python3.9/site-packages (from scikit-learn==1.0.2) (1.3.2)\n",
            "Requirement already satisfied: scipy>=1.1.0 in /opt/homebrew/Caskroom/miniconda/base/lib/python3.9/site-packages (from scikit-learn==1.0.2) (1.11.1)\n",
            "Requirement already satisfied: threadpoolctl>=2.0.0 in /opt/homebrew/Caskroom/miniconda/base/lib/python3.9/site-packages (from scikit-learn==1.0.2) (3.2.0)\n",
            "Requirement already satisfied: numpy>=1.14.6 in /opt/homebrew/Caskroom/miniconda/base/lib/python3.9/site-packages (from scikit-learn==1.0.2) (1.21.5)\n",
            "Collecting numpy>=1.14.6\n",
            "  Using cached numpy-1.26.4-cp39-cp39-macosx_11_0_arm64.whl (14.0 MB)\n",
            "Installing collected packages: numpy\n",
            "  Attempting uninstall: numpy\n",
            "    Found existing installation: numpy 1.21.5\n",
            "    Uninstalling numpy-1.21.5:\n",
            "      Successfully uninstalled numpy-1.21.5\n",
            "\u001b[31mERROR: pip's dependency resolver does not currently take into account all the packages that are installed. This behaviour is the source of the following dependency conflicts.\n",
            "numba 0.57.1 requires numpy<1.25,>=1.21, but you have numpy 1.26.4 which is incompatible.\u001b[0m\n",
            "Successfully installed numpy-1.26.4\n",
            "Note: you may need to restart the kernel to use updated packages.\n",
            "Collecting numpy==1.21.5\n",
            "  Using cached numpy-1.21.5-cp39-cp39-macosx_11_0_arm64.whl (12.4 MB)\n",
            "Installing collected packages: numpy\n",
            "  Attempting uninstall: numpy\n",
            "    Found existing installation: numpy 1.26.4\n",
            "    Uninstalling numpy-1.26.4:\n",
            "      Successfully uninstalled numpy-1.26.4\n",
            "\u001b[31mERROR: pip's dependency resolver does not currently take into account all the packages that are installed. This behaviour is the source of the following dependency conflicts.\n",
            "scipy 1.11.1 requires numpy<1.28.0,>=1.21.6, but you have numpy 1.21.5 which is incompatible.\u001b[0m\n",
            "Successfully installed numpy-1.21.5\n",
            "Note: you may need to restart the kernel to use updated packages.\n"
          ]
        }
      ],
      "source": [
        "%pip install --upgrade scikit-learn==1.0.2\n",
        "%pip install --upgrade numpy==1.21.5"
      ]
    },
    {
      "cell_type": "code",
      "execution_count": 3,
      "metadata": {},
      "outputs": [
        {
          "name": "stdout",
          "output_type": "stream",
          "text": [
            "Requirement already satisfied: seaborn in /opt/homebrew/Caskroom/miniconda/base/lib/python3.9/site-packages (0.13.2)\n",
            "Requirement already satisfied: pandas>=1.2 in /opt/homebrew/Caskroom/miniconda/base/lib/python3.9/site-packages (from seaborn) (1.5.2)\n",
            "Requirement already satisfied: matplotlib!=3.6.1,>=3.4 in /opt/homebrew/Caskroom/miniconda/base/lib/python3.9/site-packages (from seaborn) (3.8.4)\n",
            "Requirement already satisfied: numpy!=1.24.0,>=1.20 in /opt/homebrew/Caskroom/miniconda/base/lib/python3.9/site-packages (from seaborn) (1.21.5)\n",
            "Requirement already satisfied: cycler>=0.10 in /opt/homebrew/Caskroom/miniconda/base/lib/python3.9/site-packages (from matplotlib!=3.6.1,>=3.4->seaborn) (0.12.1)\n",
            "Requirement already satisfied: pillow>=8 in /opt/homebrew/Caskroom/miniconda/base/lib/python3.9/site-packages (from matplotlib!=3.6.1,>=3.4->seaborn) (10.1.0)\n",
            "Requirement already satisfied: importlib-resources>=3.2.0 in /opt/homebrew/Caskroom/miniconda/base/lib/python3.9/site-packages (from matplotlib!=3.6.1,>=3.4->seaborn) (6.4.0)\n",
            "Requirement already satisfied: kiwisolver>=1.3.1 in /opt/homebrew/Caskroom/miniconda/base/lib/python3.9/site-packages (from matplotlib!=3.6.1,>=3.4->seaborn) (1.4.5)\n",
            "Requirement already satisfied: python-dateutil>=2.7 in /opt/homebrew/Caskroom/miniconda/base/lib/python3.9/site-packages (from matplotlib!=3.6.1,>=3.4->seaborn) (2.8.2)\n",
            "Requirement already satisfied: contourpy>=1.0.1 in /opt/homebrew/Caskroom/miniconda/base/lib/python3.9/site-packages (from matplotlib!=3.6.1,>=3.4->seaborn) (1.2.1)\n",
            "Requirement already satisfied: pyparsing>=2.3.1 in /opt/homebrew/Caskroom/miniconda/base/lib/python3.9/site-packages (from matplotlib!=3.6.1,>=3.4->seaborn) (3.1.2)\n",
            "Requirement already satisfied: fonttools>=4.22.0 in /opt/homebrew/Caskroom/miniconda/base/lib/python3.9/site-packages (from matplotlib!=3.6.1,>=3.4->seaborn) (4.51.0)\n",
            "Requirement already satisfied: packaging>=20.0 in /opt/homebrew/Caskroom/miniconda/base/lib/python3.9/site-packages (from matplotlib!=3.6.1,>=3.4->seaborn) (23.1)\n",
            "Requirement already satisfied: zipp>=3.1.0 in /opt/homebrew/Caskroom/miniconda/base/lib/python3.9/site-packages (from importlib-resources>=3.2.0->matplotlib!=3.6.1,>=3.4->seaborn) (3.18.1)\n",
            "Requirement already satisfied: pytz>=2020.1 in /opt/homebrew/Caskroom/miniconda/base/lib/python3.9/site-packages (from pandas>=1.2->seaborn) (2022.6)\n",
            "Requirement already satisfied: six>=1.5 in /opt/homebrew/Caskroom/miniconda/base/lib/python3.9/site-packages (from python-dateutil>=2.7->matplotlib!=3.6.1,>=3.4->seaborn) (1.16.0)\n",
            "Note: you may need to restart the kernel to use updated packages.\n"
          ]
        }
      ],
      "source": [
        "%pip install seaborn"
      ]
    },
    {
      "cell_type": "code",
      "execution_count": 5,
      "metadata": {
        "id": "0gmoyL_xjB11"
      },
      "outputs": [
        {
          "name": "stderr",
          "output_type": "stream",
          "text": [
            "/opt/homebrew/Caskroom/miniconda/base/lib/python3.9/site-packages/scipy/__init__.py:132: UserWarning: A NumPy version >=1.21.6 and <1.28.0 is required for this version of SciPy (detected version 1.21.5)\n",
            "  warnings.warn(f\"A NumPy version >={np_minversion} and <{np_maxversion}\"\n"
          ]
        }
      ],
      "source": [
        "import time\n",
        "import datetime\n",
        "import numpy as np\n",
        "import pandas as pd\n",
        "import matplotlib.pyplot as plt\n",
        "\n",
        "\n",
        "# Load dataset\n",
        "from sklearn.datasets import load_iris\n",
        "iris = load_iris()\n",
        "iris_df =  pd.DataFrame(iris.data, columns=iris.feature_names)\n",
        "iris_df['target'] = iris.target\n",
        "iris_df['target_names'] = [iris.target_names[t] for t in iris.target]\n",
        "target_col = 'target'\n",
        "feature_col = iris.feature_names"
      ]
    },
    {
      "cell_type": "code",
      "execution_count": 11,
      "metadata": {},
      "outputs": [
        {
          "data": {
            "text/html": [
              "<div>\n",
              "<style scoped>\n",
              "    .dataframe tbody tr th:only-of-type {\n",
              "        vertical-align: middle;\n",
              "    }\n",
              "\n",
              "    .dataframe tbody tr th {\n",
              "        vertical-align: top;\n",
              "    }\n",
              "\n",
              "    .dataframe thead th {\n",
              "        text-align: right;\n",
              "    }\n",
              "</style>\n",
              "<table border=\"1\" class=\"dataframe\">\n",
              "  <thead>\n",
              "    <tr style=\"text-align: right;\">\n",
              "      <th></th>\n",
              "      <th>sepal length (cm)</th>\n",
              "      <th>sepal width (cm)</th>\n",
              "      <th>petal length (cm)</th>\n",
              "      <th>petal width (cm)</th>\n",
              "      <th>target</th>\n",
              "      <th>target_names</th>\n",
              "    </tr>\n",
              "  </thead>\n",
              "  <tbody>\n",
              "    <tr>\n",
              "      <th>0</th>\n",
              "      <td>5.1</td>\n",
              "      <td>3.5</td>\n",
              "      <td>1.4</td>\n",
              "      <td>0.2</td>\n",
              "      <td>0</td>\n",
              "      <td>setosa</td>\n",
              "    </tr>\n",
              "    <tr>\n",
              "      <th>1</th>\n",
              "      <td>4.9</td>\n",
              "      <td>3.0</td>\n",
              "      <td>1.4</td>\n",
              "      <td>0.2</td>\n",
              "      <td>0</td>\n",
              "      <td>setosa</td>\n",
              "    </tr>\n",
              "    <tr>\n",
              "      <th>2</th>\n",
              "      <td>4.7</td>\n",
              "      <td>3.2</td>\n",
              "      <td>1.3</td>\n",
              "      <td>0.2</td>\n",
              "      <td>0</td>\n",
              "      <td>setosa</td>\n",
              "    </tr>\n",
              "    <tr>\n",
              "      <th>3</th>\n",
              "      <td>4.6</td>\n",
              "      <td>3.1</td>\n",
              "      <td>1.5</td>\n",
              "      <td>0.2</td>\n",
              "      <td>0</td>\n",
              "      <td>setosa</td>\n",
              "    </tr>\n",
              "    <tr>\n",
              "      <th>4</th>\n",
              "      <td>5.0</td>\n",
              "      <td>3.6</td>\n",
              "      <td>1.4</td>\n",
              "      <td>0.2</td>\n",
              "      <td>0</td>\n",
              "      <td>setosa</td>\n",
              "    </tr>\n",
              "    <tr>\n",
              "      <th>...</th>\n",
              "      <td>...</td>\n",
              "      <td>...</td>\n",
              "      <td>...</td>\n",
              "      <td>...</td>\n",
              "      <td>...</td>\n",
              "      <td>...</td>\n",
              "    </tr>\n",
              "    <tr>\n",
              "      <th>135</th>\n",
              "      <td>7.7</td>\n",
              "      <td>3.0</td>\n",
              "      <td>6.1</td>\n",
              "      <td>2.3</td>\n",
              "      <td>2</td>\n",
              "      <td>virginica</td>\n",
              "    </tr>\n",
              "    <tr>\n",
              "      <th>136</th>\n",
              "      <td>6.3</td>\n",
              "      <td>3.4</td>\n",
              "      <td>5.6</td>\n",
              "      <td>2.4</td>\n",
              "      <td>2</td>\n",
              "      <td>virginica</td>\n",
              "    </tr>\n",
              "    <tr>\n",
              "      <th>137</th>\n",
              "      <td>6.4</td>\n",
              "      <td>3.1</td>\n",
              "      <td>5.5</td>\n",
              "      <td>1.8</td>\n",
              "      <td>2</td>\n",
              "      <td>virginica</td>\n",
              "    </tr>\n",
              "    <tr>\n",
              "      <th>138</th>\n",
              "      <td>6.0</td>\n",
              "      <td>3.0</td>\n",
              "      <td>4.8</td>\n",
              "      <td>1.8</td>\n",
              "      <td>2</td>\n",
              "      <td>virginica</td>\n",
              "    </tr>\n",
              "    <tr>\n",
              "      <th>139</th>\n",
              "      <td>6.9</td>\n",
              "      <td>3.1</td>\n",
              "      <td>5.4</td>\n",
              "      <td>2.1</td>\n",
              "      <td>2</td>\n",
              "      <td>virginica</td>\n",
              "    </tr>\n",
              "  </tbody>\n",
              "</table>\n",
              "<p>140 rows × 6 columns</p>\n",
              "</div>"
            ],
            "text/plain": [
              "     sepal length (cm)  sepal width (cm)  petal length (cm)  petal width (cm)  \\\n",
              "0                  5.1               3.5                1.4               0.2   \n",
              "1                  4.9               3.0                1.4               0.2   \n",
              "2                  4.7               3.2                1.3               0.2   \n",
              "3                  4.6               3.1                1.5               0.2   \n",
              "4                  5.0               3.6                1.4               0.2   \n",
              "..                 ...               ...                ...               ...   \n",
              "135                7.7               3.0                6.1               2.3   \n",
              "136                6.3               3.4                5.6               2.4   \n",
              "137                6.4               3.1                5.5               1.8   \n",
              "138                6.0               3.0                4.8               1.8   \n",
              "139                6.9               3.1                5.4               2.1   \n",
              "\n",
              "     target target_names  \n",
              "0         0       setosa  \n",
              "1         0       setosa  \n",
              "2         0       setosa  \n",
              "3         0       setosa  \n",
              "4         0       setosa  \n",
              "..      ...          ...  \n",
              "135       2    virginica  \n",
              "136       2    virginica  \n",
              "137       2    virginica  \n",
              "138       2    virginica  \n",
              "139       2    virginica  \n",
              "\n",
              "[140 rows x 6 columns]"
            ]
          },
          "execution_count": 11,
          "metadata": {},
          "output_type": "execute_result"
        }
      ],
      "source": [
        "iris_df[:-10]"
      ]
    },
    {
      "cell_type": "code",
      "execution_count": 12,
      "metadata": {},
      "outputs": [
        {
          "data": {
            "text/plain": [
              "setosa        50\n",
              "versicolor    50\n",
              "virginica     50\n",
              "Name: target_names, dtype: int64"
            ]
          },
          "execution_count": 12,
          "metadata": {},
          "output_type": "execute_result"
        }
      ],
      "source": [
        "iris_df['target_names'].value_counts()"
      ]
    },
    {
      "cell_type": "markdown",
      "metadata": {
        "id": "mCptmMCvcq3v"
      },
      "source": [
        "<u>**Data Set Characteristics**</u>\n",
        "\n",
        "**Number of Instances**: 150 (50 in each of three classes)  \n",
        "**Number of Attributes**: 4 numeric, predictive attributes and the class  \n",
        "\n",
        "<u>**Attribute Information**</u>\n",
        "- sepal length in cm  \n",
        "- sepal width in cm  \n",
        "- petal length in cm  \n",
        "- petal width in cm  \n",
        "- class:  \n",
        "  - Iris-Setosa  \n",
        "  - Iris-Versicolour  \n",
        "  - Iris-Virginica  \n",
        "\n",
        "<u>**Summary Statistics**</u>\n",
        "\n",
        "| Features | Min | Max | Mean | SD | Class Correlation |\n",
        "|-:|-:|-:|-:|-:|-:|\n",
        "| sepal length | 4.3 | 7.9 | 5.84 | 0.83 | 0.7826 |\n",
        "| sepal width | 2.0 | 4.4 | 3.05 | 0.43 | -0.4194 |\n",
        "| petal length | 1.0 | 6.9 | 3.76 | 1.76 | 0.9490 (high!) |\n",
        "| petal width | 0.1 | 2.5 | 1.20 | 0.76 | 0.9565 (high!) |\n",
        "\n",
        "**Missing Attribute Values**: None  \n",
        "**Class Distribution**: 33.3% for each of 3 classes.  \n",
        "**Creator**: R.A. Fisher  \n",
        "**Donor**: Michael Marshall (MARSHALL%PLU@io.arc.nasa.gov)  \n",
        "**Date**: July, 1988  \n",
        "\n",
        "The famous Iris database, first used by Sir R.A. Fisher. The dataset is taken\n",
        "from Fisher's paper. Note that it's the same as in R, but not as in the UCI\n",
        "Machine Learning Repository, which has two wrong data points.  \n",
        "\n",
        "This is perhaps the best known database to be found in the\n",
        "pattern recognition literature.  Fisher's paper is a classic in the field and\n",
        "is referenced frequently to this day.  (See Duda & Hart, for example.)  The\n",
        "data set contains 3 classes of 50 instances each, where each class refers to a\n",
        "type of iris plant.  One class is linearly separable from the other 2; the\n",
        "latter are NOT linearly separable from each other.  \n",
        "\n",
        "**References**\n",
        "- Fisher, R.A. \"The use of multiple measurements in taxonomic problems\"\n",
        "  Annual Eugenics, 7, Part II, 179-188 (1936); also in \"Contributions to\n",
        "  Mathematical Statistics\" (John Wiley, NY, 1950).\n",
        "- Duda, R.O., & Hart, P.E. (1973) Pattern Classification and Scene Analysis.\n",
        "  (Q327.D83) John Wiley & Sons.  ISBN 0-471-22361-1.  See page 218.\n",
        "- Dasarathy, B.V. (1980) \"Nosing Around the Neighborhood: A New System\n",
        "  Structure and Classification Rule for Recognition in Partially Exposed\n",
        "  Environments\".  IEEE Transactions on Pattern Analysis and Machine\n",
        "  Intelligence, Vol. PAMI-2, No. 1, 67-71.\n",
        "- Gates, G.W. (1972) \"The Reduced Nearest Neighbor Rule\".  IEEE Transactions\n",
        "  on Information Theory, May 1972, 431-433.\n",
        "- See also: 1988 MLC Proceedings, 54-64.  Cheeseman et al\"s AUTOCLASS II\n",
        "  conceptual clustering system finds 3 classes in the data.\n",
        "- Many, many more ..."
      ]
    },
    {
      "cell_type": "code",
      "execution_count": 13,
      "metadata": {
        "id": "q7h0AeXWrEF6"
      },
      "outputs": [],
      "source": [
        "from sklearn.model_selection import train_test_split\n",
        "\n",
        "X = iris_df[feature_col]\n",
        "y = iris_df[target_col]\n",
        "\n",
        "X_train, X_test, y_train, y_test = train_test_split(X, y, stratify=y, test_size=0.30, random_state=30)"
      ]
    },
    {
      "cell_type": "markdown",
      "metadata": {
        "id": "FDubfLPmq3E3"
      },
      "source": [
        "# **2. K-Nearest Neighbors**"
      ]
    },
    {
      "cell_type": "markdown",
      "metadata": {
        "id": "8TD4KhMda1kc"
      },
      "source": [
        "For Classification: https://scikit-learn.org/stable/modules/generated/sklearn.neighbors.KNeighborsClassifier.html  \n",
        "For Regression: https://scikit-learn.org/stable/modules/generated/sklearn.neighbors.KNeighborsRegressor.html  "
      ]
    },
    {
      "cell_type": "code",
      "execution_count": 14,
      "metadata": {
        "id": "VE-SheNMpZFx"
      },
      "outputs": [],
      "source": [
        "from sklearn.neighbors import KNeighborsClassifier"
      ]
    },
    {
      "cell_type": "markdown",
      "metadata": {
        "id": "atKKHdFJtT68"
      },
      "source": [
        "**Suggest Parameters**  \n",
        "\n",
        "* **n_neighbors**: 4\n",
        "* **weights**: distance"
      ]
    },
    {
      "cell_type": "code",
      "execution_count": 15,
      "metadata": {
        "id": "Ti4QPqsMxPFP"
      },
      "outputs": [
        {
          "data": {
            "text/plain": [
              "KNeighborsClassifier(weights='distance')"
            ]
          },
          "execution_count": 15,
          "metadata": {},
          "output_type": "execute_result"
        }
      ],
      "source": [
        "n_neighbors = 5 #@param {type:\"slider\", min:1, max:10, step:1}\n",
        "weights = 'distance'  #@param ['uniform', 'distance']\n",
        "\n",
        "knn = KNeighborsClassifier(\n",
        "    n_neighbors=n_neighbors,\n",
        "    weights=weights,\n",
        ")\n",
        "\n",
        "knn.fit(X_train, y_train)"
      ]
    },
    {
      "cell_type": "code",
      "execution_count": 16,
      "metadata": {
        "id": "b8UWKO1fx6X-"
      },
      "outputs": [],
      "source": [
        "# Predict as Class\n",
        "train_predict = knn.predict(X_train)\n",
        "test_predict = knn.predict(X_test)\n",
        "\n",
        "# Predict as Probability\n",
        "train_predict_prob = knn.predict_proba(X_train)"
      ]
    },
    {
      "cell_type": "code",
      "execution_count": 17,
      "metadata": {
        "id": "xRPsnYPkx92C"
      },
      "outputs": [
        {
          "name": "stdout",
          "output_type": "stream",
          "text": [
            "[0 1 1 2 2 1 2 2 2 1]\n",
            "[[1. 0. 0.]\n",
            " [0. 1. 0.]\n",
            " [0. 1. 0.]\n",
            " [0. 0. 1.]\n",
            " [0. 0. 1.]\n",
            " [0. 1. 0.]\n",
            " [0. 0. 1.]\n",
            " [0. 0. 1.]\n",
            " [0. 0. 1.]\n",
            " [0. 1. 0.]]\n"
          ]
        }
      ],
      "source": [
        "# Show first 10 prediction\n",
        "print(train_predict[:10])\n",
        "\n",
        "# Probability of 0/1\n",
        "print(train_predict_prob[:10])"
      ]
    },
    {
      "cell_type": "code",
      "execution_count": 18,
      "metadata": {
        "id": "GNicAJHMyAXc"
      },
      "outputs": [
        {
          "name": "stderr",
          "output_type": "stream",
          "text": [
            "/var/folders/2_/rpnwqb4s7_3f6bmmnvl2mzj40000gn/T/ipykernel_4484/1949516819.py:2: FutureWarning: The behavior of `series[i:j]` with an integer-dtype index is deprecated. In a future version, this will be treated as *label-based* indexing, consistent with e.g. `series[i]` lookups. To retain the old behavior, use `series.iloc[i:j]`. To get the future behavior, use `series.loc[i:j]`.\n",
            "  y_train[:10].tolist()\n"
          ]
        },
        {
          "data": {
            "text/plain": [
              "[0, 1, 1, 2, 2, 1, 2, 2, 2, 1]"
            ]
          },
          "execution_count": 18,
          "metadata": {},
          "output_type": "execute_result"
        }
      ],
      "source": [
        "# Actual Target\n",
        "y_train[:10].tolist()"
      ]
    },
    {
      "cell_type": "code",
      "execution_count": 19,
      "metadata": {
        "id": "vFeAMldJy64z"
      },
      "outputs": [
        {
          "data": {
            "text/plain": [
              "array([[15,  0],\n",
              "       [ 0, 13]])"
            ]
          },
          "execution_count": 19,
          "metadata": {},
          "output_type": "execute_result"
        }
      ],
      "source": [
        "from sklearn.metrics import confusion_matrix\n",
        "\n",
        "confusion_matrix(y_test, test_predict, labels=[0, 1])"
      ]
    },
    {
      "cell_type": "code",
      "execution_count": 20,
      "metadata": {
        "id": "714g8NA6y2Cp"
      },
      "outputs": [
        {
          "name": "stdout",
          "output_type": "stream",
          "text": [
            "              precision    recall  f1-score   support\n",
            "\n",
            "           0     1.0000    1.0000    1.0000        15\n",
            "           1     0.9286    0.8667    0.8966        15\n",
            "           2     0.8750    0.9333    0.9032        15\n",
            "\n",
            "    accuracy                         0.9333        45\n",
            "   macro avg     0.9345    0.9333    0.9333        45\n",
            "weighted avg     0.9345    0.9333    0.9333        45\n",
            "\n"
          ]
        }
      ],
      "source": [
        "from sklearn.metrics import classification_report\n",
        "\n",
        "print(classification_report(y_test, test_predict , digits=4))"
      ]
    },
    {
      "cell_type": "markdown",
      "metadata": {
        "id": "LPmiKU2j8Myk"
      },
      "source": [
        "# **3. Visualization**"
      ]
    },
    {
      "cell_type": "markdown",
      "metadata": {
        "id": "PAz5Nr2hbEKy"
      },
      "source": [
        "Adapt from: https://scikit-learn.org/stable/auto_examples/neighbors/plot_classification.html"
      ]
    },
    {
      "cell_type": "code",
      "execution_count": null,
      "metadata": {
        "id": "NlUPA3KgyyGf"
      },
      "outputs": [],
      "source": [
        "#@markdown # **Select parameters to plot**\n",
        "#@markdown **(On simplyfied model for visualization - 2 variables)**\n",
        "n_neighbors = 7 #@param {type:\"slider\", min:1, max:10, step:1}\n",
        "weights = 'distance'  #@param ['uniform', 'distance']\n",
        "x_label = 'sepal length (cm)' #@param ['sepal length (cm)', 'sepal width (cm)', 'petal length (cm)', 'petal width (cm)']\n",
        "y_label = 'sepal width (cm)' #@param ['sepal length (cm)', 'sepal width (cm)', 'petal length (cm)', 'petal width (cm)']\n",
        "\n",
        "x_idx = iris_df.columns.to_list().index(x_label)\n",
        "y_idx = iris_df.columns.to_list().index(y_label) \n",
        "\n",
        "from matplotlib import cm\n",
        "from matplotlib.colors import ListedColormap\n",
        "cmap_val = np.linspace(0.0, 1.0, 20)\n",
        "cmap_light = ListedColormap(cm.get_cmap(plt.get_cmap('tab20'))(cmap_val)[1:7:2])\n",
        "cmap_bold = ListedColormap(cm.get_cmap(plt.get_cmap('tab20'))(cmap_val)[:6:2])\n",
        "h = .02  # step size in the mesh\n",
        "\n",
        "model = KNeighborsClassifier(n_neighbors=n_neighbors, weights=weights)\n",
        "model.fit(iris_df.iloc[:, [x_idx, y_idx]], iris_df[target_col])\n",
        "x_min, x_max = iris_df.iloc[:, x_idx].min() - 1, iris_df.iloc[:, x_idx].max() + 1\n",
        "y_min, y_max = iris_df.iloc[:, y_idx].min() - 1, iris_df.iloc[:, y_idx].max() + 1\n",
        "xx, yy = np.meshgrid(\n",
        "  np.arange(x_min, x_max, h),\n",
        "  np.arange(y_min, y_max, h)\n",
        ")\n",
        "Z = model.predict(np.c_[xx.ravel(), yy.ravel()])\n",
        "\n",
        "# Put the result into a color plot\n",
        "Z = Z.reshape(xx.shape)\n",
        "plt.figure(figsize=(8, 8), dpi=80)\n",
        "plt.pcolormesh(xx, yy, Z, cmap=cmap_light)\n",
        "\n",
        "# Plot also the training points\n",
        "plt.scatter(\n",
        "  iris_df.iloc[:, x_idx],\n",
        "  iris_df.iloc[:, y_idx],\n",
        "  c=iris_df[target_col],\n",
        "  cmap=cmap_bold,\n",
        "  edgecolor='k',\n",
        "  s=60\n",
        ")\n",
        "plt.xlabel(x_label)\n",
        "plt.xlim(xx.min(), xx.max())\n",
        "plt.ylabel(y_label)\n",
        "plt.ylim(yy.min(), yy.max())\n",
        "plt.title(\"3-Class classification (k = %i, weights = '%s')\"\n",
        "          % (n_neighbors, weights))\n",
        "plt.show()"
      ]
    },
    {
      "cell_type": "markdown",
      "metadata": {
        "id": "wGmGyTCNq5l-"
      },
      "source": [
        "# **4. Find the best K value**"
      ]
    },
    {
      "cell_type": "markdown",
      "metadata": {
        "id": "fcIhDcwBaiXf"
      },
      "source": [
        "## 4.1 Grid Search"
      ]
    },
    {
      "cell_type": "markdown",
      "metadata": {
        "id": "HhUu-XMvawbs"
      },
      "source": [
        "https://scikit-learn.org/stable/modules/generated/sklearn.model_selection.GridSearchCV.html"
      ]
    },
    {
      "cell_type": "code",
      "execution_count": 21,
      "metadata": {
        "id": "NELOJyuGakdQ"
      },
      "outputs": [],
      "source": [
        "from sklearn.model_selection import GridSearchCV"
      ]
    },
    {
      "cell_type": "code",
      "execution_count": 22,
      "metadata": {
        "id": "OjrAKBY8bSPo"
      },
      "outputs": [
        {
          "name": "stderr",
          "output_type": "stream",
          "text": [
            "/opt/homebrew/Caskroom/miniconda/base/lib/python3.9/site-packages/scipy/__init__.py:132: UserWarning: A NumPy version >=1.21.6 and <1.28.0 is required for this version of SciPy (detected version 1.21.5)\n",
            "  warnings.warn(f\"A NumPy version >={np_minversion} and <{np_maxversion}\"\n",
            "/opt/homebrew/Caskroom/miniconda/base/lib/python3.9/site-packages/scipy/__init__.py:132: UserWarning: A NumPy version >=1.21.6 and <1.28.0 is required for this version of SciPy (detected version 1.21.5)\n",
            "  warnings.warn(f\"A NumPy version >={np_minversion} and <{np_maxversion}\"\n",
            "/opt/homebrew/Caskroom/miniconda/base/lib/python3.9/site-packages/scipy/__init__.py:132: UserWarning: A NumPy version >=1.21.6 and <1.28.0 is required for this version of SciPy (detected version 1.21.5)\n",
            "  warnings.warn(f\"A NumPy version >={np_minversion} and <{np_maxversion}\"\n",
            "/opt/homebrew/Caskroom/miniconda/base/lib/python3.9/site-packages/scipy/__init__.py:132: UserWarning: A NumPy version >=1.21.6 and <1.28.0 is required for this version of SciPy (detected version 1.21.5)\n",
            "  warnings.warn(f\"A NumPy version >={np_minversion} and <{np_maxversion}\"\n",
            "/opt/homebrew/Caskroom/miniconda/base/lib/python3.9/site-packages/scipy/__init__.py:132: UserWarning: A NumPy version >=1.21.6 and <1.28.0 is required for this version of SciPy (detected version 1.21.5)\n",
            "  warnings.warn(f\"A NumPy version >={np_minversion} and <{np_maxversion}\"\n",
            "/opt/homebrew/Caskroom/miniconda/base/lib/python3.9/site-packages/scipy/__init__.py:132: UserWarning: A NumPy version >=1.21.6 and <1.28.0 is required for this version of SciPy (detected version 1.21.5)\n",
            "  warnings.warn(f\"A NumPy version >={np_minversion} and <{np_maxversion}\"\n",
            "/opt/homebrew/Caskroom/miniconda/base/lib/python3.9/site-packages/scipy/__init__.py:132: UserWarning: A NumPy version >=1.21.6 and <1.28.0 is required for this version of SciPy (detected version 1.21.5)\n",
            "  warnings.warn(f\"A NumPy version >={np_minversion} and <{np_maxversion}\"\n",
            "/opt/homebrew/Caskroom/miniconda/base/lib/python3.9/site-packages/scipy/__init__.py:132: UserWarning: A NumPy version >=1.21.6 and <1.28.0 is required for this version of SciPy (detected version 1.21.5)\n",
            "  warnings.warn(f\"A NumPy version >={np_minversion} and <{np_maxversion}\"\n"
          ]
        },
        {
          "name": "stdout",
          "output_type": "stream",
          "text": [
            "Searching Time: 0:00:09.042424\n"
          ]
        }
      ],
      "source": [
        "grid_search = GridSearchCV(\n",
        "    estimator=KNeighborsClassifier(),\n",
        "    param_grid=dict(\n",
        "        n_neighbors=[1,2,3,4,5,6,7,8,9,10],\n",
        "        weights=['uniform', 'distance'],\n",
        "    ),\n",
        "    scoring='f1_weighted',\n",
        "    cv=5,\n",
        "    n_jobs=-1 # Parallel\n",
        ")\n",
        "\n",
        "grid_start_time = time.time()\n",
        "grid_search.fit(X_train, y_train)\n",
        "grid_end_time = time.time()\n",
        "print(f\"Searching Time: {datetime.timedelta(seconds=grid_end_time-grid_start_time)}\")"
      ]
    },
    {
      "cell_type": "code",
      "execution_count": 23,
      "metadata": {
        "id": "0rL9fCEfckIA"
      },
      "outputs": [
        {
          "data": {
            "text/html": [
              "<div>\n",
              "<style scoped>\n",
              "    .dataframe tbody tr th:only-of-type {\n",
              "        vertical-align: middle;\n",
              "    }\n",
              "\n",
              "    .dataframe tbody tr th {\n",
              "        vertical-align: top;\n",
              "    }\n",
              "\n",
              "    .dataframe thead th {\n",
              "        text-align: right;\n",
              "    }\n",
              "</style>\n",
              "<table border=\"1\" class=\"dataframe\">\n",
              "  <thead>\n",
              "    <tr style=\"text-align: right;\">\n",
              "      <th></th>\n",
              "      <th>mean_fit_time</th>\n",
              "      <th>std_fit_time</th>\n",
              "      <th>mean_score_time</th>\n",
              "      <th>std_score_time</th>\n",
              "      <th>param_n_neighbors</th>\n",
              "      <th>param_weights</th>\n",
              "      <th>params</th>\n",
              "      <th>split0_test_score</th>\n",
              "      <th>split1_test_score</th>\n",
              "      <th>split2_test_score</th>\n",
              "      <th>split3_test_score</th>\n",
              "      <th>split4_test_score</th>\n",
              "      <th>mean_test_score</th>\n",
              "      <th>std_test_score</th>\n",
              "      <th>rank_test_score</th>\n",
              "    </tr>\n",
              "  </thead>\n",
              "  <tbody>\n",
              "    <tr>\n",
              "      <th>0</th>\n",
              "      <td>0.001167</td>\n",
              "      <td>0.000258</td>\n",
              "      <td>0.002641</td>\n",
              "      <td>0.001558</td>\n",
              "      <td>1</td>\n",
              "      <td>uniform</td>\n",
              "      <td>{'n_neighbors': 1, 'weights': 'uniform'}</td>\n",
              "      <td>0.904762</td>\n",
              "      <td>1.000000</td>\n",
              "      <td>1.0</td>\n",
              "      <td>0.952137</td>\n",
              "      <td>0.952137</td>\n",
              "      <td>0.961807</td>\n",
              "      <td>0.035661</td>\n",
              "      <td>13</td>\n",
              "    </tr>\n",
              "    <tr>\n",
              "      <th>1</th>\n",
              "      <td>0.001182</td>\n",
              "      <td>0.000389</td>\n",
              "      <td>0.002300</td>\n",
              "      <td>0.001566</td>\n",
              "      <td>1</td>\n",
              "      <td>distance</td>\n",
              "      <td>{'n_neighbors': 1, 'weights': 'distance'}</td>\n",
              "      <td>0.904762</td>\n",
              "      <td>1.000000</td>\n",
              "      <td>1.0</td>\n",
              "      <td>0.952137</td>\n",
              "      <td>0.952137</td>\n",
              "      <td>0.961807</td>\n",
              "      <td>0.035661</td>\n",
              "      <td>13</td>\n",
              "    </tr>\n",
              "    <tr>\n",
              "      <th>2</th>\n",
              "      <td>0.001104</td>\n",
              "      <td>0.000400</td>\n",
              "      <td>0.001486</td>\n",
              "      <td>0.000045</td>\n",
              "      <td>2</td>\n",
              "      <td>uniform</td>\n",
              "      <td>{'n_neighbors': 2, 'weights': 'uniform'}</td>\n",
              "      <td>0.904762</td>\n",
              "      <td>1.000000</td>\n",
              "      <td>1.0</td>\n",
              "      <td>0.952137</td>\n",
              "      <td>0.902778</td>\n",
              "      <td>0.951935</td>\n",
              "      <td>0.043040</td>\n",
              "      <td>20</td>\n",
              "    </tr>\n",
              "    <tr>\n",
              "      <th>3</th>\n",
              "      <td>0.000972</td>\n",
              "      <td>0.000342</td>\n",
              "      <td>0.000900</td>\n",
              "      <td>0.000039</td>\n",
              "      <td>2</td>\n",
              "      <td>distance</td>\n",
              "      <td>{'n_neighbors': 2, 'weights': 'distance'}</td>\n",
              "      <td>0.904762</td>\n",
              "      <td>1.000000</td>\n",
              "      <td>1.0</td>\n",
              "      <td>0.952137</td>\n",
              "      <td>0.952137</td>\n",
              "      <td>0.961807</td>\n",
              "      <td>0.035661</td>\n",
              "      <td>13</td>\n",
              "    </tr>\n",
              "    <tr>\n",
              "      <th>4</th>\n",
              "      <td>0.000741</td>\n",
              "      <td>0.000060</td>\n",
              "      <td>0.001752</td>\n",
              "      <td>0.000457</td>\n",
              "      <td>3</td>\n",
              "      <td>uniform</td>\n",
              "      <td>{'n_neighbors': 3, 'weights': 'uniform'}</td>\n",
              "      <td>0.952137</td>\n",
              "      <td>1.000000</td>\n",
              "      <td>1.0</td>\n",
              "      <td>0.952137</td>\n",
              "      <td>1.000000</td>\n",
              "      <td>0.980855</td>\n",
              "      <td>0.023448</td>\n",
              "      <td>1</td>\n",
              "    </tr>\n",
              "    <tr>\n",
              "      <th>5</th>\n",
              "      <td>0.000764</td>\n",
              "      <td>0.000049</td>\n",
              "      <td>0.000917</td>\n",
              "      <td>0.000123</td>\n",
              "      <td>3</td>\n",
              "      <td>distance</td>\n",
              "      <td>{'n_neighbors': 3, 'weights': 'distance'}</td>\n",
              "      <td>0.952137</td>\n",
              "      <td>1.000000</td>\n",
              "      <td>1.0</td>\n",
              "      <td>0.952137</td>\n",
              "      <td>1.000000</td>\n",
              "      <td>0.980855</td>\n",
              "      <td>0.023448</td>\n",
              "      <td>1</td>\n",
              "    </tr>\n",
              "    <tr>\n",
              "      <th>6</th>\n",
              "      <td>0.000688</td>\n",
              "      <td>0.000106</td>\n",
              "      <td>0.001437</td>\n",
              "      <td>0.000079</td>\n",
              "      <td>4</td>\n",
              "      <td>uniform</td>\n",
              "      <td>{'n_neighbors': 4, 'weights': 'uniform'}</td>\n",
              "      <td>0.904762</td>\n",
              "      <td>1.000000</td>\n",
              "      <td>1.0</td>\n",
              "      <td>0.952137</td>\n",
              "      <td>0.952137</td>\n",
              "      <td>0.961807</td>\n",
              "      <td>0.035661</td>\n",
              "      <td>13</td>\n",
              "    </tr>\n",
              "    <tr>\n",
              "      <th>7</th>\n",
              "      <td>0.000890</td>\n",
              "      <td>0.000141</td>\n",
              "      <td>0.000950</td>\n",
              "      <td>0.000076</td>\n",
              "      <td>4</td>\n",
              "      <td>distance</td>\n",
              "      <td>{'n_neighbors': 4, 'weights': 'distance'}</td>\n",
              "      <td>0.904762</td>\n",
              "      <td>1.000000</td>\n",
              "      <td>1.0</td>\n",
              "      <td>0.952137</td>\n",
              "      <td>0.952137</td>\n",
              "      <td>0.961807</td>\n",
              "      <td>0.035661</td>\n",
              "      <td>13</td>\n",
              "    </tr>\n",
              "    <tr>\n",
              "      <th>8</th>\n",
              "      <td>0.000718</td>\n",
              "      <td>0.000078</td>\n",
              "      <td>0.001399</td>\n",
              "      <td>0.000089</td>\n",
              "      <td>5</td>\n",
              "      <td>uniform</td>\n",
              "      <td>{'n_neighbors': 5, 'weights': 'uniform'}</td>\n",
              "      <td>0.952137</td>\n",
              "      <td>0.952137</td>\n",
              "      <td>1.0</td>\n",
              "      <td>0.952137</td>\n",
              "      <td>0.952137</td>\n",
              "      <td>0.961709</td>\n",
              "      <td>0.019145</td>\n",
              "      <td>18</td>\n",
              "    </tr>\n",
              "    <tr>\n",
              "      <th>9</th>\n",
              "      <td>0.000839</td>\n",
              "      <td>0.000185</td>\n",
              "      <td>0.000914</td>\n",
              "      <td>0.000110</td>\n",
              "      <td>5</td>\n",
              "      <td>distance</td>\n",
              "      <td>{'n_neighbors': 5, 'weights': 'distance'}</td>\n",
              "      <td>0.952137</td>\n",
              "      <td>1.000000</td>\n",
              "      <td>1.0</td>\n",
              "      <td>0.952137</td>\n",
              "      <td>0.952137</td>\n",
              "      <td>0.971282</td>\n",
              "      <td>0.023448</td>\n",
              "      <td>11</td>\n",
              "    </tr>\n",
              "    <tr>\n",
              "      <th>10</th>\n",
              "      <td>0.000631</td>\n",
              "      <td>0.000059</td>\n",
              "      <td>0.001293</td>\n",
              "      <td>0.000062</td>\n",
              "      <td>6</td>\n",
              "      <td>uniform</td>\n",
              "      <td>{'n_neighbors': 6, 'weights': 'uniform'}</td>\n",
              "      <td>0.904762</td>\n",
              "      <td>1.000000</td>\n",
              "      <td>1.0</td>\n",
              "      <td>1.000000</td>\n",
              "      <td>0.902778</td>\n",
              "      <td>0.961508</td>\n",
              "      <td>0.047147</td>\n",
              "      <td>19</td>\n",
              "    </tr>\n",
              "    <tr>\n",
              "      <th>11</th>\n",
              "      <td>0.000904</td>\n",
              "      <td>0.000320</td>\n",
              "      <td>0.001051</td>\n",
              "      <td>0.000266</td>\n",
              "      <td>6</td>\n",
              "      <td>distance</td>\n",
              "      <td>{'n_neighbors': 6, 'weights': 'distance'}</td>\n",
              "      <td>0.952137</td>\n",
              "      <td>1.000000</td>\n",
              "      <td>1.0</td>\n",
              "      <td>0.952137</td>\n",
              "      <td>0.952137</td>\n",
              "      <td>0.971282</td>\n",
              "      <td>0.023448</td>\n",
              "      <td>11</td>\n",
              "    </tr>\n",
              "    <tr>\n",
              "      <th>12</th>\n",
              "      <td>0.000910</td>\n",
              "      <td>0.000339</td>\n",
              "      <td>0.001491</td>\n",
              "      <td>0.000186</td>\n",
              "      <td>7</td>\n",
              "      <td>uniform</td>\n",
              "      <td>{'n_neighbors': 7, 'weights': 'uniform'}</td>\n",
              "      <td>0.952137</td>\n",
              "      <td>1.000000</td>\n",
              "      <td>1.0</td>\n",
              "      <td>0.952137</td>\n",
              "      <td>1.000000</td>\n",
              "      <td>0.980855</td>\n",
              "      <td>0.023448</td>\n",
              "      <td>1</td>\n",
              "    </tr>\n",
              "    <tr>\n",
              "      <th>13</th>\n",
              "      <td>0.000644</td>\n",
              "      <td>0.000084</td>\n",
              "      <td>0.000824</td>\n",
              "      <td>0.000040</td>\n",
              "      <td>7</td>\n",
              "      <td>distance</td>\n",
              "      <td>{'n_neighbors': 7, 'weights': 'distance'}</td>\n",
              "      <td>0.952137</td>\n",
              "      <td>1.000000</td>\n",
              "      <td>1.0</td>\n",
              "      <td>0.952137</td>\n",
              "      <td>1.000000</td>\n",
              "      <td>0.980855</td>\n",
              "      <td>0.023448</td>\n",
              "      <td>1</td>\n",
              "    </tr>\n",
              "    <tr>\n",
              "      <th>14</th>\n",
              "      <td>0.000683</td>\n",
              "      <td>0.000038</td>\n",
              "      <td>0.001621</td>\n",
              "      <td>0.000326</td>\n",
              "      <td>8</td>\n",
              "      <td>uniform</td>\n",
              "      <td>{'n_neighbors': 8, 'weights': 'uniform'}</td>\n",
              "      <td>0.904762</td>\n",
              "      <td>1.000000</td>\n",
              "      <td>1.0</td>\n",
              "      <td>0.952137</td>\n",
              "      <td>1.000000</td>\n",
              "      <td>0.971380</td>\n",
              "      <td>0.038120</td>\n",
              "      <td>10</td>\n",
              "    </tr>\n",
              "    <tr>\n",
              "      <th>15</th>\n",
              "      <td>0.000716</td>\n",
              "      <td>0.000120</td>\n",
              "      <td>0.000947</td>\n",
              "      <td>0.000193</td>\n",
              "      <td>8</td>\n",
              "      <td>distance</td>\n",
              "      <td>{'n_neighbors': 8, 'weights': 'distance'}</td>\n",
              "      <td>0.952137</td>\n",
              "      <td>1.000000</td>\n",
              "      <td>1.0</td>\n",
              "      <td>0.952137</td>\n",
              "      <td>1.000000</td>\n",
              "      <td>0.980855</td>\n",
              "      <td>0.023448</td>\n",
              "      <td>1</td>\n",
              "    </tr>\n",
              "    <tr>\n",
              "      <th>16</th>\n",
              "      <td>0.000757</td>\n",
              "      <td>0.000032</td>\n",
              "      <td>0.001460</td>\n",
              "      <td>0.000143</td>\n",
              "      <td>9</td>\n",
              "      <td>uniform</td>\n",
              "      <td>{'n_neighbors': 9, 'weights': 'uniform'}</td>\n",
              "      <td>0.952137</td>\n",
              "      <td>1.000000</td>\n",
              "      <td>1.0</td>\n",
              "      <td>0.952137</td>\n",
              "      <td>1.000000</td>\n",
              "      <td>0.980855</td>\n",
              "      <td>0.023448</td>\n",
              "      <td>1</td>\n",
              "    </tr>\n",
              "    <tr>\n",
              "      <th>17</th>\n",
              "      <td>0.000789</td>\n",
              "      <td>0.000105</td>\n",
              "      <td>0.000951</td>\n",
              "      <td>0.000098</td>\n",
              "      <td>9</td>\n",
              "      <td>distance</td>\n",
              "      <td>{'n_neighbors': 9, 'weights': 'distance'}</td>\n",
              "      <td>0.952137</td>\n",
              "      <td>1.000000</td>\n",
              "      <td>1.0</td>\n",
              "      <td>0.952137</td>\n",
              "      <td>1.000000</td>\n",
              "      <td>0.980855</td>\n",
              "      <td>0.023448</td>\n",
              "      <td>1</td>\n",
              "    </tr>\n",
              "    <tr>\n",
              "      <th>18</th>\n",
              "      <td>0.000755</td>\n",
              "      <td>0.000034</td>\n",
              "      <td>0.001445</td>\n",
              "      <td>0.000110</td>\n",
              "      <td>10</td>\n",
              "      <td>uniform</td>\n",
              "      <td>{'n_neighbors': 10, 'weights': 'uniform'}</td>\n",
              "      <td>0.952137</td>\n",
              "      <td>1.000000</td>\n",
              "      <td>1.0</td>\n",
              "      <td>0.952137</td>\n",
              "      <td>1.000000</td>\n",
              "      <td>0.980855</td>\n",
              "      <td>0.023448</td>\n",
              "      <td>1</td>\n",
              "    </tr>\n",
              "    <tr>\n",
              "      <th>19</th>\n",
              "      <td>0.000874</td>\n",
              "      <td>0.000185</td>\n",
              "      <td>0.000892</td>\n",
              "      <td>0.000049</td>\n",
              "      <td>10</td>\n",
              "      <td>distance</td>\n",
              "      <td>{'n_neighbors': 10, 'weights': 'distance'}</td>\n",
              "      <td>0.952137</td>\n",
              "      <td>1.000000</td>\n",
              "      <td>1.0</td>\n",
              "      <td>0.952137</td>\n",
              "      <td>1.000000</td>\n",
              "      <td>0.980855</td>\n",
              "      <td>0.023448</td>\n",
              "      <td>1</td>\n",
              "    </tr>\n",
              "  </tbody>\n",
              "</table>\n",
              "</div>"
            ],
            "text/plain": [
              "    mean_fit_time  std_fit_time  mean_score_time  std_score_time  \\\n",
              "0        0.001167      0.000258         0.002641        0.001558   \n",
              "1        0.001182      0.000389         0.002300        0.001566   \n",
              "2        0.001104      0.000400         0.001486        0.000045   \n",
              "3        0.000972      0.000342         0.000900        0.000039   \n",
              "4        0.000741      0.000060         0.001752        0.000457   \n",
              "5        0.000764      0.000049         0.000917        0.000123   \n",
              "6        0.000688      0.000106         0.001437        0.000079   \n",
              "7        0.000890      0.000141         0.000950        0.000076   \n",
              "8        0.000718      0.000078         0.001399        0.000089   \n",
              "9        0.000839      0.000185         0.000914        0.000110   \n",
              "10       0.000631      0.000059         0.001293        0.000062   \n",
              "11       0.000904      0.000320         0.001051        0.000266   \n",
              "12       0.000910      0.000339         0.001491        0.000186   \n",
              "13       0.000644      0.000084         0.000824        0.000040   \n",
              "14       0.000683      0.000038         0.001621        0.000326   \n",
              "15       0.000716      0.000120         0.000947        0.000193   \n",
              "16       0.000757      0.000032         0.001460        0.000143   \n",
              "17       0.000789      0.000105         0.000951        0.000098   \n",
              "18       0.000755      0.000034         0.001445        0.000110   \n",
              "19       0.000874      0.000185         0.000892        0.000049   \n",
              "\n",
              "   param_n_neighbors param_weights  \\\n",
              "0                  1       uniform   \n",
              "1                  1      distance   \n",
              "2                  2       uniform   \n",
              "3                  2      distance   \n",
              "4                  3       uniform   \n",
              "5                  3      distance   \n",
              "6                  4       uniform   \n",
              "7                  4      distance   \n",
              "8                  5       uniform   \n",
              "9                  5      distance   \n",
              "10                 6       uniform   \n",
              "11                 6      distance   \n",
              "12                 7       uniform   \n",
              "13                 7      distance   \n",
              "14                 8       uniform   \n",
              "15                 8      distance   \n",
              "16                 9       uniform   \n",
              "17                 9      distance   \n",
              "18                10       uniform   \n",
              "19                10      distance   \n",
              "\n",
              "                                        params  split0_test_score  \\\n",
              "0     {'n_neighbors': 1, 'weights': 'uniform'}           0.904762   \n",
              "1    {'n_neighbors': 1, 'weights': 'distance'}           0.904762   \n",
              "2     {'n_neighbors': 2, 'weights': 'uniform'}           0.904762   \n",
              "3    {'n_neighbors': 2, 'weights': 'distance'}           0.904762   \n",
              "4     {'n_neighbors': 3, 'weights': 'uniform'}           0.952137   \n",
              "5    {'n_neighbors': 3, 'weights': 'distance'}           0.952137   \n",
              "6     {'n_neighbors': 4, 'weights': 'uniform'}           0.904762   \n",
              "7    {'n_neighbors': 4, 'weights': 'distance'}           0.904762   \n",
              "8     {'n_neighbors': 5, 'weights': 'uniform'}           0.952137   \n",
              "9    {'n_neighbors': 5, 'weights': 'distance'}           0.952137   \n",
              "10    {'n_neighbors': 6, 'weights': 'uniform'}           0.904762   \n",
              "11   {'n_neighbors': 6, 'weights': 'distance'}           0.952137   \n",
              "12    {'n_neighbors': 7, 'weights': 'uniform'}           0.952137   \n",
              "13   {'n_neighbors': 7, 'weights': 'distance'}           0.952137   \n",
              "14    {'n_neighbors': 8, 'weights': 'uniform'}           0.904762   \n",
              "15   {'n_neighbors': 8, 'weights': 'distance'}           0.952137   \n",
              "16    {'n_neighbors': 9, 'weights': 'uniform'}           0.952137   \n",
              "17   {'n_neighbors': 9, 'weights': 'distance'}           0.952137   \n",
              "18   {'n_neighbors': 10, 'weights': 'uniform'}           0.952137   \n",
              "19  {'n_neighbors': 10, 'weights': 'distance'}           0.952137   \n",
              "\n",
              "    split1_test_score  split2_test_score  split3_test_score  \\\n",
              "0            1.000000                1.0           0.952137   \n",
              "1            1.000000                1.0           0.952137   \n",
              "2            1.000000                1.0           0.952137   \n",
              "3            1.000000                1.0           0.952137   \n",
              "4            1.000000                1.0           0.952137   \n",
              "5            1.000000                1.0           0.952137   \n",
              "6            1.000000                1.0           0.952137   \n",
              "7            1.000000                1.0           0.952137   \n",
              "8            0.952137                1.0           0.952137   \n",
              "9            1.000000                1.0           0.952137   \n",
              "10           1.000000                1.0           1.000000   \n",
              "11           1.000000                1.0           0.952137   \n",
              "12           1.000000                1.0           0.952137   \n",
              "13           1.000000                1.0           0.952137   \n",
              "14           1.000000                1.0           0.952137   \n",
              "15           1.000000                1.0           0.952137   \n",
              "16           1.000000                1.0           0.952137   \n",
              "17           1.000000                1.0           0.952137   \n",
              "18           1.000000                1.0           0.952137   \n",
              "19           1.000000                1.0           0.952137   \n",
              "\n",
              "    split4_test_score  mean_test_score  std_test_score  rank_test_score  \n",
              "0            0.952137         0.961807        0.035661               13  \n",
              "1            0.952137         0.961807        0.035661               13  \n",
              "2            0.902778         0.951935        0.043040               20  \n",
              "3            0.952137         0.961807        0.035661               13  \n",
              "4            1.000000         0.980855        0.023448                1  \n",
              "5            1.000000         0.980855        0.023448                1  \n",
              "6            0.952137         0.961807        0.035661               13  \n",
              "7            0.952137         0.961807        0.035661               13  \n",
              "8            0.952137         0.961709        0.019145               18  \n",
              "9            0.952137         0.971282        0.023448               11  \n",
              "10           0.902778         0.961508        0.047147               19  \n",
              "11           0.952137         0.971282        0.023448               11  \n",
              "12           1.000000         0.980855        0.023448                1  \n",
              "13           1.000000         0.980855        0.023448                1  \n",
              "14           1.000000         0.971380        0.038120               10  \n",
              "15           1.000000         0.980855        0.023448                1  \n",
              "16           1.000000         0.980855        0.023448                1  \n",
              "17           1.000000         0.980855        0.023448                1  \n",
              "18           1.000000         0.980855        0.023448                1  \n",
              "19           1.000000         0.980855        0.023448                1  "
            ]
          },
          "execution_count": 23,
          "metadata": {},
          "output_type": "execute_result"
        }
      ],
      "source": [
        "# Get Searching Result\n",
        "grid_search_result = grid_search.cv_results_\n",
        "pd.DataFrame.from_dict(grid_search_result)"
      ]
    },
    {
      "cell_type": "code",
      "execution_count": 24,
      "metadata": {
        "id": "69NOmiKddFBM"
      },
      "outputs": [],
      "source": [
        "# Best Trained Model \n",
        "model = grid_search.best_estimator_"
      ]
    },
    {
      "cell_type": "code",
      "execution_count": 25,
      "metadata": {
        "id": "iB151LH7-Q2I"
      },
      "outputs": [
        {
          "data": {
            "text/plain": [
              "array([2, 0, 2, 1, 2, 0, 1, 0, 2, 2])"
            ]
          },
          "execution_count": 25,
          "metadata": {},
          "output_type": "execute_result"
        }
      ],
      "source": [
        "# Predict with the best model\n",
        "y_pred = model.predict(X_test)\n",
        "y_pred[:10]"
      ]
    },
    {
      "cell_type": "markdown",
      "metadata": {
        "id": "bCrpE4Tnammg"
      },
      "source": [
        "## 4.2 Randomized Search"
      ]
    },
    {
      "cell_type": "markdown",
      "metadata": {
        "id": "sxgSgkavax0Z"
      },
      "source": [
        "https://scikit-learn.org/stable/modules/generated/sklearn.model_selection.RandomizedSearchCV.html"
      ]
    },
    {
      "cell_type": "code",
      "execution_count": 27,
      "metadata": {
        "id": "fzfJ7zkHGOIs"
      },
      "outputs": [],
      "source": [
        "from sklearn.model_selection import RandomizedSearchCV"
      ]
    },
    {
      "cell_type": "code",
      "execution_count": 28,
      "metadata": {
        "id": "a3nLZIcDbRyF"
      },
      "outputs": [
        {
          "name": "stdout",
          "output_type": "stream",
          "text": [
            "Searching Time: 0:00:00.073502\n"
          ]
        }
      ],
      "source": [
        "rand_search = RandomizedSearchCV(\n",
        "    estimator=KNeighborsClassifier(),\n",
        "    param_distributions=dict(\n",
        "        n_neighbors=[1,2,3,4,5,6,7,8,9,10],\n",
        "        weights=['uniform', 'distance'],\n",
        "    ),\n",
        "    scoring='f1_weighted',\n",
        "    cv=5,\n",
        "    n_jobs=-1\n",
        ")\n",
        "\n",
        "rand_start_time = time.time()\n",
        "rand_search.fit(X_train, y_train)\n",
        "rand_end_time = time.time()\n",
        "print(f\"Searching Time: {datetime.timedelta(seconds=rand_end_time-rand_start_time)}\")"
      ]
    },
    {
      "cell_type": "code",
      "execution_count": 29,
      "metadata": {
        "id": "gKl2ZW6DdbgF"
      },
      "outputs": [
        {
          "data": {
            "text/html": [
              "<div>\n",
              "<style scoped>\n",
              "    .dataframe tbody tr th:only-of-type {\n",
              "        vertical-align: middle;\n",
              "    }\n",
              "\n",
              "    .dataframe tbody tr th {\n",
              "        vertical-align: top;\n",
              "    }\n",
              "\n",
              "    .dataframe thead th {\n",
              "        text-align: right;\n",
              "    }\n",
              "</style>\n",
              "<table border=\"1\" class=\"dataframe\">\n",
              "  <thead>\n",
              "    <tr style=\"text-align: right;\">\n",
              "      <th></th>\n",
              "      <th>mean_fit_time</th>\n",
              "      <th>std_fit_time</th>\n",
              "      <th>mean_score_time</th>\n",
              "      <th>std_score_time</th>\n",
              "      <th>param_weights</th>\n",
              "      <th>param_n_neighbors</th>\n",
              "      <th>params</th>\n",
              "      <th>split0_test_score</th>\n",
              "      <th>split1_test_score</th>\n",
              "      <th>split2_test_score</th>\n",
              "      <th>split3_test_score</th>\n",
              "      <th>split4_test_score</th>\n",
              "      <th>mean_test_score</th>\n",
              "      <th>std_test_score</th>\n",
              "      <th>rank_test_score</th>\n",
              "    </tr>\n",
              "  </thead>\n",
              "  <tbody>\n",
              "    <tr>\n",
              "      <th>0</th>\n",
              "      <td>0.003705</td>\n",
              "      <td>0.001528</td>\n",
              "      <td>0.003187</td>\n",
              "      <td>0.000347</td>\n",
              "      <td>uniform</td>\n",
              "      <td>4</td>\n",
              "      <td>{'weights': 'uniform', 'n_neighbors': 4}</td>\n",
              "      <td>0.904762</td>\n",
              "      <td>1.000000</td>\n",
              "      <td>1.0</td>\n",
              "      <td>0.952137</td>\n",
              "      <td>0.952137</td>\n",
              "      <td>0.961807</td>\n",
              "      <td>0.035661</td>\n",
              "      <td>5</td>\n",
              "    </tr>\n",
              "    <tr>\n",
              "      <th>1</th>\n",
              "      <td>0.001446</td>\n",
              "      <td>0.000988</td>\n",
              "      <td>0.001681</td>\n",
              "      <td>0.001110</td>\n",
              "      <td>distance</td>\n",
              "      <td>1</td>\n",
              "      <td>{'weights': 'distance', 'n_neighbors': 1}</td>\n",
              "      <td>0.904762</td>\n",
              "      <td>1.000000</td>\n",
              "      <td>1.0</td>\n",
              "      <td>0.952137</td>\n",
              "      <td>0.952137</td>\n",
              "      <td>0.961807</td>\n",
              "      <td>0.035661</td>\n",
              "      <td>5</td>\n",
              "    </tr>\n",
              "    <tr>\n",
              "      <th>2</th>\n",
              "      <td>0.002071</td>\n",
              "      <td>0.001678</td>\n",
              "      <td>0.001257</td>\n",
              "      <td>0.000334</td>\n",
              "      <td>distance</td>\n",
              "      <td>2</td>\n",
              "      <td>{'weights': 'distance', 'n_neighbors': 2}</td>\n",
              "      <td>0.904762</td>\n",
              "      <td>1.000000</td>\n",
              "      <td>1.0</td>\n",
              "      <td>0.952137</td>\n",
              "      <td>0.952137</td>\n",
              "      <td>0.961807</td>\n",
              "      <td>0.035661</td>\n",
              "      <td>5</td>\n",
              "    </tr>\n",
              "    <tr>\n",
              "      <th>3</th>\n",
              "      <td>0.000783</td>\n",
              "      <td>0.000079</td>\n",
              "      <td>0.001899</td>\n",
              "      <td>0.000543</td>\n",
              "      <td>uniform</td>\n",
              "      <td>2</td>\n",
              "      <td>{'weights': 'uniform', 'n_neighbors': 2}</td>\n",
              "      <td>0.904762</td>\n",
              "      <td>1.000000</td>\n",
              "      <td>1.0</td>\n",
              "      <td>0.952137</td>\n",
              "      <td>0.902778</td>\n",
              "      <td>0.951935</td>\n",
              "      <td>0.043040</td>\n",
              "      <td>10</td>\n",
              "    </tr>\n",
              "    <tr>\n",
              "      <th>4</th>\n",
              "      <td>0.000844</td>\n",
              "      <td>0.000371</td>\n",
              "      <td>0.000913</td>\n",
              "      <td>0.000078</td>\n",
              "      <td>distance</td>\n",
              "      <td>6</td>\n",
              "      <td>{'weights': 'distance', 'n_neighbors': 6}</td>\n",
              "      <td>0.952137</td>\n",
              "      <td>1.000000</td>\n",
              "      <td>1.0</td>\n",
              "      <td>0.952137</td>\n",
              "      <td>0.952137</td>\n",
              "      <td>0.971282</td>\n",
              "      <td>0.023448</td>\n",
              "      <td>3</td>\n",
              "    </tr>\n",
              "    <tr>\n",
              "      <th>5</th>\n",
              "      <td>0.001097</td>\n",
              "      <td>0.000837</td>\n",
              "      <td>0.001160</td>\n",
              "      <td>0.000589</td>\n",
              "      <td>distance</td>\n",
              "      <td>9</td>\n",
              "      <td>{'weights': 'distance', 'n_neighbors': 9}</td>\n",
              "      <td>0.952137</td>\n",
              "      <td>1.000000</td>\n",
              "      <td>1.0</td>\n",
              "      <td>0.952137</td>\n",
              "      <td>1.000000</td>\n",
              "      <td>0.980855</td>\n",
              "      <td>0.023448</td>\n",
              "      <td>1</td>\n",
              "    </tr>\n",
              "    <tr>\n",
              "      <th>6</th>\n",
              "      <td>0.000961</td>\n",
              "      <td>0.000619</td>\n",
              "      <td>0.001144</td>\n",
              "      <td>0.000526</td>\n",
              "      <td>distance</td>\n",
              "      <td>5</td>\n",
              "      <td>{'weights': 'distance', 'n_neighbors': 5}</td>\n",
              "      <td>0.952137</td>\n",
              "      <td>1.000000</td>\n",
              "      <td>1.0</td>\n",
              "      <td>0.952137</td>\n",
              "      <td>0.952137</td>\n",
              "      <td>0.971282</td>\n",
              "      <td>0.023448</td>\n",
              "      <td>3</td>\n",
              "    </tr>\n",
              "    <tr>\n",
              "      <th>7</th>\n",
              "      <td>0.000900</td>\n",
              "      <td>0.000399</td>\n",
              "      <td>0.001755</td>\n",
              "      <td>0.000393</td>\n",
              "      <td>uniform</td>\n",
              "      <td>5</td>\n",
              "      <td>{'weights': 'uniform', 'n_neighbors': 5}</td>\n",
              "      <td>0.952137</td>\n",
              "      <td>0.952137</td>\n",
              "      <td>1.0</td>\n",
              "      <td>0.952137</td>\n",
              "      <td>0.952137</td>\n",
              "      <td>0.961709</td>\n",
              "      <td>0.019145</td>\n",
              "      <td>8</td>\n",
              "    </tr>\n",
              "    <tr>\n",
              "      <th>8</th>\n",
              "      <td>0.000816</td>\n",
              "      <td>0.000123</td>\n",
              "      <td>0.001027</td>\n",
              "      <td>0.000262</td>\n",
              "      <td>distance</td>\n",
              "      <td>3</td>\n",
              "      <td>{'weights': 'distance', 'n_neighbors': 3}</td>\n",
              "      <td>0.952137</td>\n",
              "      <td>1.000000</td>\n",
              "      <td>1.0</td>\n",
              "      <td>0.952137</td>\n",
              "      <td>1.000000</td>\n",
              "      <td>0.980855</td>\n",
              "      <td>0.023448</td>\n",
              "      <td>1</td>\n",
              "    </tr>\n",
              "    <tr>\n",
              "      <th>9</th>\n",
              "      <td>0.001199</td>\n",
              "      <td>0.000375</td>\n",
              "      <td>0.002239</td>\n",
              "      <td>0.000782</td>\n",
              "      <td>uniform</td>\n",
              "      <td>6</td>\n",
              "      <td>{'weights': 'uniform', 'n_neighbors': 6}</td>\n",
              "      <td>0.904762</td>\n",
              "      <td>1.000000</td>\n",
              "      <td>1.0</td>\n",
              "      <td>1.000000</td>\n",
              "      <td>0.902778</td>\n",
              "      <td>0.961508</td>\n",
              "      <td>0.047147</td>\n",
              "      <td>9</td>\n",
              "    </tr>\n",
              "  </tbody>\n",
              "</table>\n",
              "</div>"
            ],
            "text/plain": [
              "   mean_fit_time  std_fit_time  mean_score_time  std_score_time param_weights  \\\n",
              "0       0.003705      0.001528         0.003187        0.000347       uniform   \n",
              "1       0.001446      0.000988         0.001681        0.001110      distance   \n",
              "2       0.002071      0.001678         0.001257        0.000334      distance   \n",
              "3       0.000783      0.000079         0.001899        0.000543       uniform   \n",
              "4       0.000844      0.000371         0.000913        0.000078      distance   \n",
              "5       0.001097      0.000837         0.001160        0.000589      distance   \n",
              "6       0.000961      0.000619         0.001144        0.000526      distance   \n",
              "7       0.000900      0.000399         0.001755        0.000393       uniform   \n",
              "8       0.000816      0.000123         0.001027        0.000262      distance   \n",
              "9       0.001199      0.000375         0.002239        0.000782       uniform   \n",
              "\n",
              "  param_n_neighbors                                     params  \\\n",
              "0                 4   {'weights': 'uniform', 'n_neighbors': 4}   \n",
              "1                 1  {'weights': 'distance', 'n_neighbors': 1}   \n",
              "2                 2  {'weights': 'distance', 'n_neighbors': 2}   \n",
              "3                 2   {'weights': 'uniform', 'n_neighbors': 2}   \n",
              "4                 6  {'weights': 'distance', 'n_neighbors': 6}   \n",
              "5                 9  {'weights': 'distance', 'n_neighbors': 9}   \n",
              "6                 5  {'weights': 'distance', 'n_neighbors': 5}   \n",
              "7                 5   {'weights': 'uniform', 'n_neighbors': 5}   \n",
              "8                 3  {'weights': 'distance', 'n_neighbors': 3}   \n",
              "9                 6   {'weights': 'uniform', 'n_neighbors': 6}   \n",
              "\n",
              "   split0_test_score  split1_test_score  split2_test_score  split3_test_score  \\\n",
              "0           0.904762           1.000000                1.0           0.952137   \n",
              "1           0.904762           1.000000                1.0           0.952137   \n",
              "2           0.904762           1.000000                1.0           0.952137   \n",
              "3           0.904762           1.000000                1.0           0.952137   \n",
              "4           0.952137           1.000000                1.0           0.952137   \n",
              "5           0.952137           1.000000                1.0           0.952137   \n",
              "6           0.952137           1.000000                1.0           0.952137   \n",
              "7           0.952137           0.952137                1.0           0.952137   \n",
              "8           0.952137           1.000000                1.0           0.952137   \n",
              "9           0.904762           1.000000                1.0           1.000000   \n",
              "\n",
              "   split4_test_score  mean_test_score  std_test_score  rank_test_score  \n",
              "0           0.952137         0.961807        0.035661                5  \n",
              "1           0.952137         0.961807        0.035661                5  \n",
              "2           0.952137         0.961807        0.035661                5  \n",
              "3           0.902778         0.951935        0.043040               10  \n",
              "4           0.952137         0.971282        0.023448                3  \n",
              "5           1.000000         0.980855        0.023448                1  \n",
              "6           0.952137         0.971282        0.023448                3  \n",
              "7           0.952137         0.961709        0.019145                8  \n",
              "8           1.000000         0.980855        0.023448                1  \n",
              "9           0.902778         0.961508        0.047147                9  "
            ]
          },
          "execution_count": 29,
          "metadata": {},
          "output_type": "execute_result"
        }
      ],
      "source": [
        "# Get Searching Result\n",
        "rand_search_result = rand_search.cv_results_\n",
        "pd.DataFrame.from_dict(rand_search_result)"
      ]
    },
    {
      "cell_type": "code",
      "execution_count": 30,
      "metadata": {
        "id": "B1niOzfcdgEA"
      },
      "outputs": [],
      "source": [
        "# Best Trained Model \n",
        "model = rand_search.best_estimator_"
      ]
    },
    {
      "cell_type": "code",
      "execution_count": 31,
      "metadata": {
        "id": "wtcV-W5z_w9z"
      },
      "outputs": [
        {
          "data": {
            "text/plain": [
              "array([2, 0, 2, 1, 2, 0, 1, 0, 2, 2])"
            ]
          },
          "execution_count": 31,
          "metadata": {},
          "output_type": "execute_result"
        }
      ],
      "source": [
        "# Predict with the best model\n",
        "y_pred = model.predict(X_test)\n",
        "y_pred[:10]"
      ]
    }
  ],
  "metadata": {
    "colab": {
      "collapsed_sections": [],
      "name": "5_K_Nearest_Neighbors-v2.ipynb",
      "provenance": []
    },
    "kernelspec": {
      "display_name": "Python 3",
      "name": "python3"
    },
    "language_info": {
      "codemirror_mode": {
        "name": "ipython",
        "version": 3
      },
      "file_extension": ".py",
      "mimetype": "text/x-python",
      "name": "python",
      "nbconvert_exporter": "python",
      "pygments_lexer": "ipython3",
      "version": "3.9.12"
    }
  },
  "nbformat": 4,
  "nbformat_minor": 0
}
