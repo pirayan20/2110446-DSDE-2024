{
 "cells": [
  {
   "cell_type": "markdown",
   "id": "fb3021e8",
   "metadata": {},
   "source": [
    "# Simple Redis-Py Example\n",
    "This notebook contains simple redis python commands.  "
   ]
  },
  {
   "cell_type": "code",
   "execution_count": 13,
   "id": "3cc03d6e",
   "metadata": {},
   "outputs": [],
   "source": [
    "# we will have to install redis in colab\n",
    "import sys\n",
    "IN_COLAB = 'google.colab' in sys.modules\n",
    "if IN_COLAB:\n",
    "  !pip install redis"
   ]
  },
  {
   "cell_type": "code",
   "execution_count": 14,
   "id": "86fc30a0",
   "metadata": {},
   "outputs": [
    {
     "name": "stdout",
     "output_type": "stream",
     "text": [
      "Requirement already satisfied: redis in /Users/pirayan/Library/jupyterlab-desktop/jlab_server/lib/python3.12/site-packages (5.0.3)\n",
      "Note: you may need to restart the kernel to use updated packages.\n"
     ]
    }
   ],
   "source": [
    "%pip install redis"
   ]
  },
  {
   "cell_type": "code",
   "execution_count": 15,
   "id": "fd8b3220",
   "metadata": {},
   "outputs": [],
   "source": [
    "import redis"
   ]
  },
  {
   "cell_type": "markdown",
   "id": "cde3c78f",
   "metadata": {},
   "source": [
    "Connect to local server -- no hostname or ip is needed"
   ]
  },
  {
   "cell_type": "code",
   "execution_count": 16,
   "id": "04c250e1",
   "metadata": {},
   "outputs": [],
   "source": [
    "rd = redis.Redis(host='localhost', port=6379, charset='utf-8', decode_responses=True)"
   ]
  },
  {
   "cell_type": "code",
   "execution_count": 17,
   "id": "ae84b8b9",
   "metadata": {},
   "outputs": [
    {
     "data": {
      "text/plain": [
       "True"
      ]
     },
     "execution_count": 17,
     "metadata": {},
     "output_type": "execute_result"
    }
   ],
   "source": [
    "rd.set('user:101:name', 'pinot')"
   ]
  },
  {
   "cell_type": "code",
   "execution_count": 18,
   "id": "69ce7ef5",
   "metadata": {},
   "outputs": [
    {
     "data": {
      "text/plain": [
       "'pinot'"
      ]
     },
     "execution_count": 18,
     "metadata": {},
     "output_type": "execute_result"
    }
   ],
   "source": [
    "rd.get('user:101:name')"
   ]
  },
  {
   "cell_type": "code",
   "execution_count": 19,
   "id": "13879704",
   "metadata": {},
   "outputs": [
    {
     "data": {
      "text/plain": [
       "1"
      ]
     },
     "execution_count": 19,
     "metadata": {},
     "output_type": "execute_result"
    }
   ],
   "source": [
    "rd.hset('post:1', 'user', 101)\n",
    "rd.hset('post:1', 'content', 'this is the first post')"
   ]
  },
  {
   "cell_type": "code",
   "execution_count": 20,
   "id": "2bc97459",
   "metadata": {},
   "outputs": [
    {
     "data": {
      "text/plain": [
       "{'user': '101', 'content': 'this is the first post'}"
      ]
     },
     "execution_count": 20,
     "metadata": {},
     "output_type": "execute_result"
    }
   ],
   "source": [
    "rd.hgetall('post:1')"
   ]
  },
  {
   "cell_type": "code",
   "execution_count": 21,
   "id": "a642d437",
   "metadata": {},
   "outputs": [
    {
     "data": {
      "text/plain": [
       "2"
      ]
     },
     "execution_count": 21,
     "metadata": {},
     "output_type": "execute_result"
    }
   ],
   "source": [
    "rd.rpush('user:101:post', 1)\n",
    "rd.rpush('user:101:post', 8)"
   ]
  },
  {
   "cell_type": "code",
   "execution_count": 22,
   "id": "73cc26fd",
   "metadata": {},
   "outputs": [
    {
     "data": {
      "text/plain": [
       "2"
      ]
     },
     "execution_count": 22,
     "metadata": {},
     "output_type": "execute_result"
    }
   ],
   "source": [
    "rd.llen('user:101:post')"
   ]
  },
  {
   "cell_type": "code",
   "execution_count": 23,
   "id": "b9b71e71",
   "metadata": {},
   "outputs": [
    {
     "data": {
      "text/plain": [
       "['1', '8']"
      ]
     },
     "execution_count": 23,
     "metadata": {},
     "output_type": "execute_result"
    }
   ],
   "source": [
    "rd.lrange('user:101:post', 0, -1)"
   ]
  },
  {
   "cell_type": "code",
   "execution_count": 24,
   "id": "ca8c3bda",
   "metadata": {},
   "outputs": [
    {
     "data": {
      "text/plain": [
       "1"
      ]
     },
     "execution_count": 24,
     "metadata": {},
     "output_type": "execute_result"
    }
   ],
   "source": [
    "rd.sadd('user:101:follows', 104)\n",
    "rd.sadd('user:101:follows', 105)"
   ]
  },
  {
   "cell_type": "code",
   "execution_count": 25,
   "id": "d87f8b47",
   "metadata": {},
   "outputs": [
    {
     "data": {
      "text/plain": [
       "2"
      ]
     },
     "execution_count": 25,
     "metadata": {},
     "output_type": "execute_result"
    }
   ],
   "source": [
    "rd.scard('user:101:follows')"
   ]
  },
  {
   "cell_type": "code",
   "execution_count": 26,
   "id": "ea5c0091",
   "metadata": {},
   "outputs": [
    {
     "data": {
      "text/plain": [
       "{'104', '105'}"
      ]
     },
     "execution_count": 26,
     "metadata": {},
     "output_type": "execute_result"
    }
   ],
   "source": [
    "rd.smembers('user:101:follows')"
   ]
  },
  {
   "cell_type": "code",
   "execution_count": 27,
   "id": "7772d270",
   "metadata": {},
   "outputs": [
    {
     "name": "stdout",
     "output_type": "stream",
     "text": [
      "found:  user:101:follows\n",
      "found:  user:101:post\n",
      "found:  user:101:name\n"
     ]
    }
   ],
   "source": [
    "cursor = 0\n",
    "cursor, keys = rd.scan(cursor=cursor, match='user:*')\n",
    "while cursor > 0:\n",
    "    for key in keys:\n",
    "        print('found: ', key)\n",
    "    cursor, keys = rd.scan(cursor=cursor, match='username:*')  \n",
    "\n",
    "for key in keys:\n",
    "    print('found: ', key)"
   ]
  }
 ],
 "metadata": {
  "kernelspec": {
   "display_name": "Python 3 (ipykernel)",
   "language": "python",
   "name": "python3"
  },
  "language_info": {
   "codemirror_mode": {
    "name": "ipython",
    "version": 3
   },
   "file_extension": ".py",
   "mimetype": "text/x-python",
   "name": "python",
   "nbconvert_exporter": "python",
   "pygments_lexer": "ipython3",
   "version": "3.12.2"
  }
 },
 "nbformat": 4,
 "nbformat_minor": 5
}
